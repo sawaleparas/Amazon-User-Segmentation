import pandas as pd
import numpy as np
import matplotlib.pyplot as plt
import seaborn as sns
from sklearn.cluster import KMeans
from sklearn.preprocessing import StandardScaler

# Load Dataset (replace 'amazon_data.csv' with actual dataset)
df = pd.read_csv("amazon_data.csv")

# Show first few rows
print(df.head())

# Basic Data Info
print(df.info())

# Handling Missing Values
df.fillna(df.mean(), inplace=True)

# Normalizing Data for Clustering
scaler = StandardScaler()
df_scaled = scaler.fit_transform(df.select_dtypes(include=['float64', 'int64']))
# Using the Elbow Method to Find the Optimal K
inertia = []
for k in range(1, 11):
    kmeans = KMeans(n_clusters=k, random_state=42)
    kmeans.fit(df_scaled)
    inertia.append(kmeans.inertia_)

# Plot the Elbow Graph
plt.figure(figsize=(8, 5))
plt.plot(range(1, 11), inertia, marker='o', linestyle='--')
plt.xlabel('Number of Clusters (K)')
plt.ylabel('Inertia')
plt.title('Elbow Method to Determine Optimal K')
plt.show()

# Apply K-Means Clustering with Optimal K
kmeans = KMeans(n_clusters=3, random_state=42)
df['Cluster'] = kmeans.fit_predict(df_scaled)

# Show Cluster Counts
print(df['Cluster'].value_counts())
import joblib

# Save Model
joblib.dump(kmeans, "customer_segmentation_model.pkl")

# Save Processed Data
df.to_csv("segmented_customers.csv", index=False)
